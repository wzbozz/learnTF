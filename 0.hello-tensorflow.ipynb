{
 "cells": [
  {
   "cell_type": "markdown",
   "metadata": {},
   "source": [
    "<font color = \"#A90022\" size=8> Hello, TensorFlow!</font>\n",
    "<p><font color = gray>Building and training your first TensorFlow graph from the ground up.</font></p>\n",
    "<p><font size=2>By Aaron Schumacher June 20, 2016</font></p>"
   ]
  },
  {
   "cell_type": "markdown",
   "metadata": {},
   "source": [
    "The TensorFlow project is bigger than you might realize. The fact that it's a library for deep learning, and its connection to Google, has helped TensorFlow attract a lot of attention. But beyond the hype, there are unique elements to the project that are worthy of closer inspection:\n",
    "\n",
    "- The core library is suited to a broad family of machine learning techniques, not “just” deep learning.\n",
    "- Linear algebra and other internals are prominently exposed.\n",
    "- In addition to the core machine learning functionality, TensorFlow also includes its own logging system, its own interactive log visualizer, and even its own heavily engineered serving architecture.\n",
    "- The execution model for TensorFlow differs from Python's scikit-learn, or most tools in R.\n",
    "\n",
    "Cool stuff, but—especially for someone hoping to explore machine learning for the first time—TensorFlow can be a lot to take in.\n",
    "\n",
    "How does TensorFlow work? Let's break it down so we can see and understand every moving part. We'll explore the data flow graph that defines the computations your data will undergo, how to train models with gradient descent using TensorFlow, and how TensorBoard can visualize your TensorFlow work. The examples here won't solve industrial machine learning problems, but they'll help you understand the components underlying everything built with TensorFlow, including whatever you build next!"
   ]
  },
  {
   "cell_type": "markdown",
   "metadata": {},
   "source": [
    "### Names and execution in Python and TensorFlow\n",
    "\n",
    "The way TensorFlow manages computation is not totally different from the way Python usually does. With both, it's important to remember, to paraphrase Hadley Wickham, that an object has no name (see Figure 1). In order to see the similarities (and differences) between how Python and TensorFlow work, let’s look at how they refer to objects and handle evaluation.\n",
    "\n",
    "![](https://d3ansictanv2wj.cloudfront.net/1400px-image01-04b58810411f87b7bc561dee09b220f8.jpg)\n",
    "<font color=\"#B3B3B3\">Figure 1. Names “have” objects, rather than the reverse. Image courtesy of Hadley Wickham, used with permission.</font>\n",
    "\n",
    "The variable names in Python code aren't what they represent; they're just pointing at objects. So, when you say in Python that `foo = []` and `bar = foo`, it isn't just that `foo` equals `bar`; `foo` is `bar`, in the sense that they both point at the same list object."
   ]
  },
  {
   "cell_type": "code",
   "execution_count": 1,
   "metadata": {
    "collapsed": false
   },
   "outputs": [
    {
     "name": "stdout",
     "output_type": "stream",
     "text": [
      "('foo == bar', True)\n",
      "('foo is bar', True)\n"
     ]
    }
   ],
   "source": [
    "foo = []\n",
    "bar = foo\n",
    "print('foo == bar',foo == bar)\n",
    "print('foo is bar',foo == bar)"
   ]
  },
  {
   "cell_type": "markdown",
   "metadata": {},
   "source": [
    "You can also see that `id(foo)` and `id(bar)` are the same. This identity, especially with mutable data structures like lists, can lead to surprising bugs when it's misunderstood.\n",
    "\n",
    "Internally, Python manages all your objects and keeps track of your variable names and which objects they refer to. The TensorFlow graph represents another layer of this kind of management; as we’ll see, Python names will refer to objects that connect to more granular and managed TensorFlow graph operations.\n",
    "\n",
    "When you enter a Python expression, for example at an interactive interpreter or Read Evaluate Print Loop (REPL), whatever is read is almost always evaluated right away. Python is eager to do what you tell it. So, if I tell Python to `foo.append(bar)`, it appends right away, even if I never use `foo` again.\n",
    "\n",
    "A lazier alternative would be to just remember that I said `foo.append(bar)`, and if I ever evaluate `foo` at some point in the future, Python could do the append then. This would be closer to how TensorFlow behaves, where defining relationships is entirely separate from evaluating what the results are.\n",
    "\n",
    "TensorFlow separates the definition of computations from their execution even further by having them happen in separate places: a graph defines the operations, but the operations only happen within a session. Graphs and sessions are created independently. A graph is like a blueprint, and a session is like a construction site.\n",
    "\n",
    "Back to our plain Python example, recall that `foo` and `bar` refer to the same list. By appending `bar` into `foo`, we've put a list inside itself. You could think of this structure as a graph with one node, pointing to itself. Nesting lists is one way to represent a graph structure like a TensorFlow computation graph.\n",
    "Real TensorFlow graphs will be more interesting than this!"
   ]
  },
  {
   "cell_type": "code",
   "execution_count": 2,
   "metadata": {
    "collapsed": false
   },
   "outputs": [
    {
     "data": {
      "text/plain": [
       "[[...]]"
      ]
     },
     "execution_count": 2,
     "metadata": {},
     "output_type": "execute_result"
    }
   ],
   "source": [
    "foo.append(bar)\n",
    "foo"
   ]
  },
  {
   "cell_type": "markdown",
   "metadata": {},
   "source": [
    "### The simplest TensorFlow graph\n",
    "\n",
    "To start getting our hands dirty, let’s create the simplest TensorFlow graph we can, from the ground up. TensorFlow is admirably easier to install than some other frameworks. The examples here work with either Python 2.7 or 3.3+, and the TensorFlow version used is 0.8."
   ]
  },
  {
   "cell_type": "code",
   "execution_count": 3,
   "metadata": {
    "collapsed": true
   },
   "outputs": [],
   "source": [
    "import tensorflow as tf"
   ]
  },
  {
   "cell_type": "markdown",
   "metadata": {},
   "source": [
    "At this point TensorFlow has already started managing a lot of state for us. There's already an implicit default graph, for example. Internally, the default graph lives in the `_default_graph_stack`, but we don't have access to that directly. We use `tf.get_default_graph()`."
   ]
  },
  {
   "cell_type": "code",
   "execution_count": 4,
   "metadata": {
    "collapsed": true
   },
   "outputs": [],
   "source": [
    "graph = tf.get_default_graph()"
   ]
  },
  {
   "cell_type": "markdown",
   "metadata": {},
   "source": [
    "The nodes of the TensorFlow graph are called “operations,” or “ops.” We can see what operations are in the graph with `graph.get_operations()`."
   ]
  },
  {
   "cell_type": "code",
   "execution_count": 5,
   "metadata": {
    "collapsed": false
   },
   "outputs": [
    {
     "data": {
      "text/plain": [
       "[]"
      ]
     },
     "execution_count": 5,
     "metadata": {},
     "output_type": "execute_result"
    }
   ],
   "source": [
    "graph.get_operations()"
   ]
  },
  {
   "cell_type": "markdown",
   "metadata": {},
   "source": [
    "Currently, there isn't anything in the graph. We’ll need to put everything we want TensorFlow to compute into that graph. Let's start with a simple constant input value of one."
   ]
  },
  {
   "cell_type": "code",
   "execution_count": 6,
   "metadata": {
    "collapsed": false
   },
   "outputs": [],
   "source": [
    "input_value = tf.constant(1.0)"
   ]
  },
  {
   "cell_type": "markdown",
   "metadata": {},
   "source": [
    "That constant now lives as a node, an operation, in the graph. The Python variable name `input_value` refers indirectly to that operation, but we can also find the operation in the default graph."
   ]
  },
  {
   "cell_type": "code",
   "execution_count": 7,
   "metadata": {
    "collapsed": false
   },
   "outputs": [
    {
     "data": {
      "text/plain": [
       "[<tensorflow.python.framework.ops.Operation at 0x1170221d0>]"
      ]
     },
     "execution_count": 7,
     "metadata": {},
     "output_type": "execute_result"
    }
   ],
   "source": [
    "operations = graph.get_operations()\n",
    "operations"
   ]
  },
  {
   "cell_type": "code",
   "execution_count": 8,
   "metadata": {
    "collapsed": false
   },
   "outputs": [
    {
     "data": {
      "text/plain": [
       "name: \"Const\"\n",
       "op: \"Const\"\n",
       "attr {\n",
       "  key: \"dtype\"\n",
       "  value {\n",
       "    type: DT_FLOAT\n",
       "  }\n",
       "}\n",
       "attr {\n",
       "  key: \"value\"\n",
       "  value {\n",
       "    tensor {\n",
       "      dtype: DT_FLOAT\n",
       "      tensor_shape {\n",
       "      }\n",
       "      float_val: 1.0\n",
       "    }\n",
       "  }\n",
       "}"
      ]
     },
     "execution_count": 8,
     "metadata": {},
     "output_type": "execute_result"
    }
   ],
   "source": [
    "operations[0].node_def"
   ]
  },
  {
   "cell_type": "markdown",
   "metadata": {},
   "source": [
    "TensorFlow uses protocol buffers internally. (Protocol buffers are sort of like a Google-strength JSON.) Printing the `node_def` for the constant operation above shows what's in TensorFlow's protocol buffer representation for the number one.\n",
    "\n",
    "People new to TensorFlow sometimes wonder why there's all this fuss about making “TensorFlow versions” of things. Why can't we just use a normal Python variable without also defining a TensorFlow object? One of the TensorFlow tutorials has an explanation:\n",
    "\n",
    "> To do efficient numerical computing in Python, we typically use libraries like NumPy that do expensive operations such as matrix multiplication outside Python, using highly efficient code implemented in another language. Unfortunately, there can still be a lot of overhead from switching back to Python every operation. This overhead is especially bad if you want to run computations on GPUs or in a distributed manner, where there can be a high cost to transferring data.\n",
    "\n",
    "> TensorFlow also does its heavy lifting outside Python, but it takes things a step further to avoid this overhead. Instead of running a single expensive operation independently from Python, TensorFlow lets us describe a graph of interacting operations that run entirely outside Python. This approach is similar to that used in Theano or Torch.\n",
    "\n",
    "TensorFlow can do a lot of great things, but it can only work with what's been explicitly given to it. This is true even for a single constant.\n",
    "\n",
    "If we inspect our `input_value`, we see it is a constant 32-bit float tensor of no dimension: just one number."
   ]
  },
  {
   "cell_type": "code",
   "execution_count": 9,
   "metadata": {
    "collapsed": false
   },
   "outputs": [
    {
     "data": {
      "text/plain": [
       "<tf.Tensor 'Const:0' shape=() dtype=float32>"
      ]
     },
     "execution_count": 9,
     "metadata": {},
     "output_type": "execute_result"
    }
   ],
   "source": [
    "input_value"
   ]
  },
  {
   "cell_type": "markdown",
   "metadata": {},
   "source": [
    "Note that this doesn't tell us what that number is. To evaluate `input_value` and get a numerical value out, we need to create a “session” where graph operations can be evaluated and then explicitly ask to evaluate or “run” `input_value`. (The session picks up the default graph by default.)\n"
   ]
  },
  {
   "cell_type": "code",
   "execution_count": 10,
   "metadata": {
    "collapsed": false
   },
   "outputs": [
    {
     "name": "stdout",
     "output_type": "stream",
     "text": [
      "1.0\n"
     ]
    }
   ],
   "source": [
    "sess = tf.Session()\n",
    "print sess.run(input_value)\n",
    "# Or\n",
    "# with tf.Session() as sess:\n",
    "#    print(sess.run(input_value))"
   ]
  },
  {
   "cell_type": "markdown",
   "metadata": {},
   "source": [
    "It may feel a little strange to “run” a constant. But it isn't so different from evaluating an expression as usual in Python; it's just that TensorFlow is managing its own space of things—the computational graph—and it has its own method of evaluation.\n",
    "\n",
    "### The simplest TensorFlow neuron\n",
    "\n",
    "Now that we have a session with a simple graph, let's build a neuron with just one parameter, or weight. Often, even simple neurons also have a bias term and a non-identity activation function, but we'll leave these out.\n",
    "\n",
    "The neuron's weight isn't going to be constant; we expect it to change in order to learn based on the “true” input and output we use for training. The weight will be a TensorFlow variable. We'll give that variable a starting value of 0.8."
   ]
  },
  {
   "cell_type": "code",
   "execution_count": 11,
   "metadata": {
    "collapsed": true
   },
   "outputs": [],
   "source": [
    "weight = tf.Variable(0.8)"
   ]
  },
  {
   "cell_type": "markdown",
   "metadata": {},
   "source": [
    "You might expect that adding a variable would add one operation to the graph, but in fact that one line adds four operations. We can check all the operation names:"
   ]
  },
  {
   "cell_type": "code",
   "execution_count": 12,
   "metadata": {
    "collapsed": false
   },
   "outputs": [
    {
     "name": "stdout",
     "output_type": "stream",
     "text": [
      "Const\n",
      "Variable/initial_value\n",
      "Variable\n",
      "Variable/Assign\n",
      "Variable/read\n"
     ]
    }
   ],
   "source": [
    "for op in graph.get_operations(): print(op.name)"
   ]
  },
  {
   "cell_type": "markdown",
   "metadata": {},
   "source": [
    "We won't want to follow every operation individually for long, but it will be nice to see at least one that feels like a real computation.\n",
    "\n",
    "Now there are six operations in the graph, and the last one is that multiplication."
   ]
  },
  {
   "cell_type": "code",
   "execution_count": 13,
   "metadata": {
    "collapsed": false
   },
   "outputs": [
    {
     "name": "stdout",
     "output_type": "stream",
     "text": [
      "Const\n",
      "Variable/initial_value\n",
      "Variable\n",
      "Variable/Assign\n",
      "Variable/read\n",
      "mul\n"
     ]
    }
   ],
   "source": [
    "output_value = weight * input_value\n",
    "for op in graph.get_operations(): print(op.name)"
   ]
  },
  {
   "cell_type": "code",
   "execution_count": 14,
   "metadata": {
    "collapsed": false
   },
   "outputs": [
    {
     "name": "stdout",
     "output_type": "stream",
     "text": [
      "mul\n",
      "Tensor(\"Variable/read:0\", shape=(), dtype=float32)\n",
      "Tensor(\"Const:0\", shape=(), dtype=float32)\n"
     ]
    }
   ],
   "source": [
    "op = graph.get_operations()[-1]\n",
    "print(op.name)\n",
    "for op_input in op.inputs: print(op_input)"
   ]
  },
  {
   "cell_type": "markdown",
   "metadata": {},
   "source": [
    "This shows how the multiplication operation tracks where its inputs come from: they come from other operations in the graph. To understand a whole graph, following references this way quickly becomes tedious for humans. TensorBoard graph visualization is designed to help.\n",
    "\n",
    "How do we find out what the product is? We have to “run” the `output_value` operation. But that operation depends on a variable: `weight`. We told TensorFlow that the initial value of `weight` should be 0.8, but the value hasn't yet been set in the current session. The `tf.initialize_all_variables()` function generates an operation which will initialize all our variables (in this case just one) and then we can run that operation."
   ]
  },
  {
   "cell_type": "code",
   "execution_count": 15,
   "metadata": {
    "collapsed": false
   },
   "outputs": [],
   "source": [
    "init = tf.initialize_all_variables()\n",
    "sess.run(init)"
   ]
  },
  {
   "cell_type": "raw",
   "metadata": {},
   "source": [
    "The result of `tf.initialize_all_variables()` will include initializers for all the variables currently in the graph, so if you add more variables you'll want to use `tf.initialize_all_variables()` again; a stale `init` wouldn't include the new variables.\n",
    "\n",
    "Now we're ready to run the `output_value` operation."
   ]
  },
  {
   "cell_type": "code",
   "execution_count": 16,
   "metadata": {
    "collapsed": false
   },
   "outputs": [
    {
     "data": {
      "text/plain": [
       "0.80000001"
      ]
     },
     "execution_count": 16,
     "metadata": {},
     "output_type": "execute_result"
    }
   ],
   "source": [
    "sess.run(output_value)"
   ]
  },
  {
   "cell_type": "markdown",
   "metadata": {},
   "source": [
    "Recall that's 0.8 * 1.0 with 32-bit floats, and 32-bit floats have a hard time with 0.8; 0.80000001 is as close as they can get."
   ]
  },
  {
   "cell_type": "markdown",
   "metadata": {},
   "source": [
    "### See your graph in TensorBoard\n",
    "\n",
    "Up to this point, the graph has been simple, but it would already be nice to see it represented in a diagram. We'll use TensorBoard to generate that diagram. TensorBoard reads the name field that is stored inside each operation (quite distinct from Python variable names). We can use these TensorFlow names and switch to more conventional Python variable names. Using `tf.mul` here is equivalent to our earlier use of just `*` for multiplication, but it lets us set the name for the operation."
   ]
  },
  {
   "cell_type": "code",
   "execution_count": 17,
   "metadata": {
    "collapsed": true
   },
   "outputs": [],
   "source": [
    "x = tf.constant(1.0, name='input')\n",
    "w = tf.Variable(0.8, name='weight')\n",
    "y = tf.mul(w, x, name='output')"
   ]
  },
  {
   "cell_type": "markdown",
   "metadata": {},
   "source": [
    "TensorBoard works by looking at a directory of output created from TensorFlow sessions. We can write this output with a `SummaryWriter`, and if we do nothing aside from creating one with a graph, it will just write out that graph.\n",
    "\n",
    "The first argument when creating the `SummaryWriter` is an output directory name, which will be created if it doesn't exist."
   ]
  },
  {
   "cell_type": "code",
   "execution_count": 18,
   "metadata": {
    "collapsed": true
   },
   "outputs": [],
   "source": [
    "summary_writer = tf.train.SummaryWriter('log_simple_graph', sess.graph)"
   ]
  },
  {
   "cell_type": "markdown",
   "metadata": {},
   "source": [
    "Now, at the command line, we can start up TensorBoard.\n",
    "\n",
    "```\n",
    "$ tensorboard --logdir=log_simple_graph\n",
    "```"
   ]
  },
  {
   "cell_type": "markdown",
   "metadata": {},
   "source": [
    "TensorBoard runs as a local web app, on port 6006. (“6006” is “goog” upside-down.) If you go in a browser to `localhost:6006/#graphs` you should see a diagram of the graph you created in TensorFlow, which looks something like Figure 2.\n",
    "![](https://d3ansictanv2wj.cloudfront.net/1400px-image02-af763e31293cb5456a6959f372191168.jpg)\n",
    "<font color=\"#B3B3B3\">Figure 2. A TensorBoard visualization of the simplest TensorFlow neuron.</font>"
   ]
  },
  {
   "cell_type": "markdown",
   "metadata": {},
   "source": [
    "### Making the neuron learn\n",
    "\n",
    "Now that we’ve built our neuron, how does it learn? We set up an input value of 1.0. Let's say the correct output value is zero. That is, we have a very simple “training set” of just one example with one feature, which has the value one, and one label, which is zero. We want the neuron to learn the function taking one to zero.\n",
    "\n",
    "Currently, the system takes the input one and returns 0.8, which is not correct. We need a way to measure how wrong the system is. We'll call that measure of wrongness the “loss” and give our system the goal of minimizing the loss. If the loss can be negative, then minimizing it could be silly, so let's make the loss the square of the difference between the current output and the desired output."
   ]
  },
  {
   "cell_type": "code",
   "execution_count": 19,
   "metadata": {
    "collapsed": true
   },
   "outputs": [],
   "source": [
    "y_ = tf.constant(0.0)\n",
    "loss = (y - y_)**2"
   ]
  },
  {
   "cell_type": "markdown",
   "metadata": {},
   "source": [
    "So far, nothing in the graph does any learning. For that, we need an optimizer. We'll use a gradient descent optimizer so that we can update the weight based on the derivative of the loss. The optimizer takes a learning rate to moderate the size of the updates, which we'll set at 0.025."
   ]
  },
  {
   "cell_type": "code",
   "execution_count": 20,
   "metadata": {
    "collapsed": true
   },
   "outputs": [],
   "source": [
    "optim = tf.train.GradientDescentOptimizer(learning_rate=0.025)"
   ]
  },
  {
   "cell_type": "markdown",
   "metadata": {},
   "source": [
    "The optimizer is remarkably clever. It can automatically work out and apply the appropriate gradients through a whole network, carrying out the backward step for learning.\n",
    "\n",
    "Let's see what the gradient looks like for our simple example."
   ]
  },
  {
   "cell_type": "code",
   "execution_count": 21,
   "metadata": {
    "collapsed": true
   },
   "outputs": [],
   "source": [
    "sess.run(tf.initialize_all_variables())"
   ]
  },
  {
   "cell_type": "code",
   "execution_count": 22,
   "metadata": {
    "collapsed": true
   },
   "outputs": [],
   "source": [
    "grads_and_vars = optim.compute_gradients(loss)"
   ]
  },
  {
   "cell_type": "code",
   "execution_count": 23,
   "metadata": {
    "collapsed": false
   },
   "outputs": [
    {
     "data": {
      "text/plain": [
       "1.6"
      ]
     },
     "execution_count": 23,
     "metadata": {},
     "output_type": "execute_result"
    }
   ],
   "source": [
    "sess.run(grads_and_vars[1][0])"
   ]
  },
  {
   "cell_type": "code",
   "execution_count": 35,
   "metadata": {
    "collapsed": false
   },
   "outputs": [
    {
     "data": {
      "text/plain": [
       "1.6"
      ]
     },
     "execution_count": 35,
     "metadata": {},
     "output_type": "execute_result"
    }
   ],
   "source": [
    "#sess.run(grads_and_vars[1][0]) #in orignal blog\n",
    "sess.run(grads_and_vars[1][0])"
   ]
  },
  {
   "cell_type": "code",
   "execution_count": 24,
   "metadata": {
    "collapsed": false
   },
   "outputs": [
    {
     "data": {
      "text/plain": [
       "[(None, <tensorflow.python.ops.variables.Variable at 0x117022c50>),\n",
       " (<tf.Tensor 'gradients/output_grad/tuple/control_dependency:0' shape=() dtype=float32>,\n",
       "  <tensorflow.python.ops.variables.Variable at 0x117038f50>)]"
      ]
     },
     "execution_count": 24,
     "metadata": {},
     "output_type": "execute_result"
    }
   ],
   "source": [
    "grads_and_vars"
   ]
  },
  {
   "cell_type": "markdown",
   "metadata": {},
   "source": [
    "Why is the value of the gradient 1.6? Our loss is error squared, and the derivative of that is two times the error. Currently the system says 0.8 instead of 0, so the error is 0.8, and two times 0.8 is 1.6. It's working!\n",
    "\n",
    "For more complex systems, it will be very nice indeed that TensorFlow calculates and then applies these gradients for us automatically.\n",
    "\n",
    "Let's apply the gradient, finishing the backpropagation."
   ]
  },
  {
   "cell_type": "code",
   "execution_count": 25,
   "metadata": {
    "collapsed": false
   },
   "outputs": [
    {
     "name": "stdout",
     "output_type": "stream",
     "text": [
      "0.76\n"
     ]
    }
   ],
   "source": [
    "sess.run(optim.apply_gradients(grads_and_vars))\n",
    "print(sess.run(w))"
   ]
  },
  {
   "cell_type": "markdown",
   "metadata": {},
   "source": [
    "The weight decreased by 0.04 because the optimizer subtracted the gradient times the learning rate, 1.6 * 0.025, pushing the weight in the right direction.\n",
    "\n",
    "Instead of hand-holding the optimizer like this, we can make one operation that calculates and applies the gradients: the `train_step`."
   ]
  },
  {
   "cell_type": "code",
   "execution_count": 26,
   "metadata": {
    "collapsed": false
   },
   "outputs": [
    {
     "name": "stdout",
     "output_type": "stream",
     "text": [
      "0.0044996\n"
     ]
    }
   ],
   "source": [
    "train_step = tf.train.GradientDescentOptimizer(0.025).minimize(loss)\n",
    "for i in range(100):\n",
    "    sess.run(train_step)\n",
    "print(sess.run(y))"
   ]
  },
  {
   "cell_type": "markdown",
   "metadata": {},
   "source": [
    "Running the training step many times, the weight and the output value are now very close to zero. The neuron has learned!\n",
    "\n",
    "### Training diagnostics in TensorBoard\n",
    "\n",
    "We may be interested in what's happening during training. Say we want to follow what our system is predicting at every training step. We could print from inside the training loop.\n",
    "\n"
   ]
  },
  {
   "cell_type": "code",
   "execution_count": 27,
   "metadata": {
    "collapsed": false
   },
   "outputs": [
    {
     "name": "stdout",
     "output_type": "stream",
     "text": [
      "before step 0, y is 0.800000011921\n",
      "before step 1, y is 0.759999990463\n",
      "before step 2, y is 0.722000002861\n",
      "before step 3, y is 0.685899972916\n",
      "before step 4, y is 0.651604950428\n",
      "before step 5, y is 0.619024693966\n",
      "before step 6, y is 0.588073432446\n",
      "before step 7, y is 0.558669745922\n",
      "before step 8, y is 0.530736267567\n",
      "before step 9, y is 0.504199445248\n",
      "before step 10, y is 0.478989481926\n",
      "before step 11, y is 0.45504000783\n",
      "before step 12, y is 0.432288020849\n",
      "before step 13, y is 0.410673618317\n",
      "before step 14, y is 0.390139937401\n",
      "before step 15, y is 0.370632946491\n",
      "before step 16, y is 0.352101296186\n",
      "before step 17, y is 0.334496229887\n",
      "before step 18, y is 0.317771404982\n",
      "before step 19, y is 0.301882833242\n",
      "before step 20, y is 0.286788702011\n",
      "before step 21, y is 0.27244925499\n",
      "before step 22, y is 0.25882679224\n",
      "before step 23, y is 0.245885446668\n",
      "before step 24, y is 0.233591169119\n",
      "before step 25, y is 0.221911609173\n",
      "before step 26, y is 0.210816025734\n",
      "before step 27, y is 0.200275227427\n",
      "before step 28, y is 0.190261468291\n",
      "before step 29, y is 0.180748388171\n",
      "before step 30, y is 0.171710968018\n",
      "before step 31, y is 0.163125425577\n",
      "before step 32, y is 0.154969155788\n",
      "before step 33, y is 0.147220700979\n",
      "before step 34, y is 0.13985966146\n",
      "before step 35, y is 0.132866680622\n",
      "before step 36, y is 0.126223340631\n",
      "before step 37, y is 0.119912177324\n",
      "before step 38, y is 0.113916568458\n",
      "before step 39, y is 0.108220741153\n",
      "before step 40, y is 0.10280970484\n",
      "before step 41, y is 0.0976692214608\n",
      "before step 42, y is 0.0927857607603\n",
      "before step 43, y is 0.0881464704871\n",
      "before step 44, y is 0.0837391465902\n",
      "before step 45, y is 0.0795521885157\n",
      "before step 46, y is 0.0755745768547\n",
      "before step 47, y is 0.0717958509922\n",
      "before step 48, y is 0.0682060569525\n",
      "before step 49, y is 0.0647957548499\n",
      "before step 50, y is 0.0615559667349\n",
      "before step 51, y is 0.0584781691432\n",
      "before step 52, y is 0.0555542595685\n",
      "before step 53, y is 0.0527765452862\n",
      "before step 54, y is 0.0501377172768\n",
      "before step 55, y is 0.0476308315992\n",
      "before step 56, y is 0.0452492907643\n",
      "before step 57, y is 0.0429868251085\n",
      "before step 58, y is 0.0408374853432\n",
      "before step 59, y is 0.0387956127524\n",
      "before step 60, y is 0.0368558317423\n",
      "before step 61, y is 0.0350130386651\n",
      "before step 62, y is 0.0332623869181\n",
      "before step 63, y is 0.0315992683172\n",
      "before step 64, y is 0.0300193056464\n",
      "before step 65, y is 0.028518339619\n",
      "before step 66, y is 0.02709242329\n",
      "before step 67, y is 0.0257378015667\n",
      "before step 68, y is 0.024450911209\n",
      "before step 69, y is 0.0232283659279\n",
      "before step 70, y is 0.0220669470727\n",
      "before step 71, y is 0.0209635999054\n",
      "before step 72, y is 0.019915420562\n",
      "before step 73, y is 0.0189196504653\n",
      "before step 74, y is 0.0179736688733\n",
      "before step 75, y is 0.0170749854296\n",
      "before step 76, y is 0.0162212364376\n",
      "before step 77, y is 0.0154101746157\n",
      "before step 78, y is 0.014639666304\n",
      "before step 79, y is 0.0139076830819\n",
      "before step 80, y is 0.0132122989744\n",
      "before step 81, y is 0.0125516839325\n",
      "before step 82, y is 0.0119241001084\n",
      "before step 83, y is 0.0113278953359\n",
      "before step 84, y is 0.0107615003362\n",
      "before step 85, y is 0.0102234249935\n",
      "before step 86, y is 0.00971225369722\n",
      "before step 87, y is 0.00922664068639\n",
      "before step 88, y is 0.00876530818641\n",
      "before step 89, y is 0.00832704268396\n",
      "before step 90, y is 0.00791069027036\n",
      "before step 91, y is 0.00751515571028\n",
      "before step 92, y is 0.00713939778507\n",
      "before step 93, y is 0.00678242789581\n",
      "before step 94, y is 0.00644330633804\n",
      "before step 95, y is 0.00612114090472\n",
      "before step 96, y is 0.00581508409232\n",
      "before step 97, y is 0.00552432984114\n",
      "before step 98, y is 0.00524811353534\n",
      "before step 99, y is 0.00498570781201\n"
     ]
    }
   ],
   "source": [
    "sess.run(tf.initialize_all_variables())\n",
    "for i in range(100):\n",
    "    print('before step {}, y is {}'.format(i, sess.run(y)))\n",
    "    sess.run(train_step)"
   ]
  },
  {
   "cell_type": "markdown",
   "metadata": {},
   "source": [
    "This works, but there are some problems. It's hard to understand a list of numbers. A plot would be better. And even with only one value to monitor, there's too much output to read. We're likely to want to monitor many things. It would be nice to record everything in some organized way.\n",
    "\n",
    "Luckily, the same system that we used earlier to visualize the graph also has just the mechanisms we need.\n",
    "\n",
    "We instrument the computation graph by adding operations that summarize its state. Here, we'll create an operation that reports the current value of `y`, the neuron's current output."
   ]
  },
  {
   "cell_type": "code",
   "execution_count": 28,
   "metadata": {
    "collapsed": true
   },
   "outputs": [],
   "source": [
    "summary_y = tf.scalar_summary('output', y)"
   ]
  },
  {
   "cell_type": "markdown",
   "metadata": {},
   "source": [
    "When you run a summary operation, it returns a string of protocol buffer text that can be written to a log directory with a `SummaryWriter`."
   ]
  },
  {
   "cell_type": "code",
   "execution_count": 29,
   "metadata": {
    "collapsed": true
   },
   "outputs": [],
   "source": [
    "summary_writer = tf.train.SummaryWriter('log_simple_stats')\n",
    "sess.run(tf.initialize_all_variables())\n",
    "for i in range(100):\n",
    "    summary_str = sess.run(summary_y)\n",
    "    summary_writer.add_summary(summary_str, i)\n",
    "    sess.run(train_step)"
   ]
  },
  {
   "cell_type": "markdown",
   "metadata": {},
   "source": [
    "Now after running `tensorboard --logdir=log_simple_stats`, you get an interactive plot at `localhost:6006/#events` (Figure 3).\n",
    "![](https://d3ansictanv2wj.cloudfront.net/1400px-image00-0aa9ce5979e5e4c310fd765d69c0b627.jpg)\n",
    "<font color=\"#B3B3B3\">Figure 3. A TensorBoard visualization of a neuron’s output against training iteration number.</font>\n",
    "\n",
    "### Flowing onward\n",
    "\n",
    "Here's a final version of the code. It's fairly minimal, with every part showing useful (and understandable) TensorFlow functionality."
   ]
  },
  {
   "cell_type": "code",
   "execution_count": 30,
   "metadata": {
    "collapsed": true
   },
   "outputs": [],
   "source": [
    "import tensorflow as tf\n",
    "\n",
    "x = tf.constant(1.0, name='input')\n",
    "w = tf.Variable(0.8, name='weight')\n",
    "y = tf.mul(w, x, name='output')\n",
    "y_ = tf.constant(0.0, name='correct_value')\n",
    "loss = tf.pow(y - y_, 2, name='loss')\n",
    "optim = tf.train.GradientDescentOptimizer(0.025)\n",
    "train_step = optim.minimize(loss)"
   ]
  },
  {
   "cell_type": "code",
   "execution_count": 34,
   "metadata": {
    "collapsed": true
   },
   "outputs": [],
   "source": [
    "for value in [x, w, y, y_, loss]:\n",
    "    tf.scalar_summary(value.op.name, value)\n",
    "\n",
    "summaries = tf.merge_all_summaries()\n",
    "\n",
    "sess = tf.Session()\n",
    "summary_writer = tf.train.SummaryWriter('log_simple_stats', sess.graph)\n",
    "\n",
    "sess.run(tf.initialize_all_variables())\n",
    "for i in range(100):\n",
    "    summary_writer.add_summary(sess.run(summaries), i)\n",
    "    sess.run(train_step)"
   ]
  },
  {
   "cell_type": "markdown",
   "metadata": {},
   "source": [
    "The example we just ran through is even simpler than the ones that inspired it in Michael Nielsen's Neural Networks and Deep Learning. For myself, seeing details like these helps with understanding and building more complex systems that use and extend from simple building blocks. Part of the beauty of TensorFlow is how flexibly you can build complex systems from simpler components.\n",
    "\n",
    "If you want to continue experimenting with TensorFlow, it might be fun to start making more interesting neurons, perhaps with different activation functions. You could train with more interesting data. You could add more neurons. You could add more layers. You could dive into more complex pre-built models, or spend more time with TensorFlow's own tutorials and how-to guides. Go for it!"
   ]
  },
  {
   "cell_type": "code",
   "execution_count": null,
   "metadata": {
    "collapsed": true
   },
   "outputs": [],
   "source": []
  }
 ],
 "metadata": {
  "kernelspec": {
   "display_name": "Python 2",
   "language": "python",
   "name": "python2"
  },
  "language_info": {
   "codemirror_mode": {
    "name": "ipython",
    "version": 2
   },
   "file_extension": ".py",
   "mimetype": "text/x-python",
   "name": "python",
   "nbconvert_exporter": "python",
   "pygments_lexer": "ipython2",
   "version": "2.7.12"
  }
 },
 "nbformat": 4,
 "nbformat_minor": 1
}
